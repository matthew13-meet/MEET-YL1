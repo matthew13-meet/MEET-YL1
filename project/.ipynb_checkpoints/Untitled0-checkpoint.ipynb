{
 "metadata": {
  "name": ""
 },
 "nbformat": 3,
 "nbformat_minor": 0,
 "worksheets": [
  {
   "cells": [
    {
     "cell_type": "code",
     "collapsed": false,
     "input": [
      "import csv"
     ],
     "language": "python",
     "metadata": {},
     "outputs": [],
     "prompt_number": 4
    },
    {
     "cell_type": "code",
     "collapsed": false,
     "input": [
      "f = open('melanoma.csv' , 'rb')\n",
      "reader = csv.reader (f)\n",
      "rownum = 0\n",
      "year = []\n",
      "incidence = []\n",
      "for row in reader :\n",
      "    if rownum == 0:\n",
      "        header = row\n",
      "    else:\n",
      "        year.append(row[0])\n",
      "        incidence.append(row[1])\n",
      "    \n",
      "    rownum += 1\n",
      "\n",
      "print year\n",
      "print incidence\n",
      "    \n",
      "f.close()"
     ],
     "language": "python",
     "metadata": {},
     "outputs": [],
     "prompt_number": 20
    },
    {
     "cell_type": "code",
     "collapsed": false,
     "input": [],
     "language": "python",
     "metadata": {},
     "outputs": []
    }
   ],
   "metadata": {}
  }
 ]
}